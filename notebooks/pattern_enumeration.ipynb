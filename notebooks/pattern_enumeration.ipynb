{
 "cells": [
  {
   "cell_type": "markdown",
   "metadata": {},
   "source": [
    "# AMPLPY: Pattern Enumeration\n",
    "\n",
    "[![Open In Colab](https://colab.research.google.com/assets/colab-badge.svg)](https://colab.research.google.com/github/ampl/amplpy/blob/master/notebooks/pattern_enumeration.ipynb)\n",
    "\n",
    "[![Kaggle](https://kaggle.com/static/images/open-in-kaggle.svg)](https://kaggle.com/kernels/welcome?src=https://github.com/ampl/amplpy/blob/master/notebooks/pattern_enumeration.ipynb)\n",
    "\n",
    "Documentation: http://amplpy.readthedocs.io\n",
    "\n",
    "GitHub Repository: https://github.com/ampl/amplpy\n",
    "\n",
    "PyPI Repository: https://pypi.python.org/pypi/amplpy\n",
    "\n",
    "Jupyter Notebooks: https://github.com/ampl/amplpy/tree/master/notebooks"
   ]
  },
  {
   "cell_type": "markdown",
   "metadata": {},
   "source": [
    "### Setup"
   ]
  },
  {
   "cell_type": "code",
   "execution_count": 1,
   "metadata": {},
   "outputs": [],
   "source": [
    "!pip install -q amplpy ampltools amplpy matplotlib numpy"
   ]
  },
  {
   "cell_type": "markdown",
   "metadata": {},
   "source": [
    "### Google Colab & Kaggle interagration"
   ]
  },
  {
   "cell_type": "code",
   "execution_count": 2,
   "metadata": {},
   "outputs": [],
   "source": [
    "import os\n",
    "RUNNING_IN_GOOGLE_COLAB = 'COLAB_GPU' in os.environ\n",
    "RUNNING_IN_KAGGLE = os.path.abspath(os.curdir).startswith('/kaggle/')\n",
    "RUNNING_IN_THE_CLOUD = RUNNING_IN_GOOGLE_COLAB or RUNNING_IN_KAGGLE"
   ]
  },
  {
   "cell_type": "code",
   "execution_count": 3,
   "metadata": {},
   "outputs": [],
   "source": [
    "# If you have an AMPL Cloud License or an AMPL CE license, you can use it on Google Colab and similar platforms.\n",
    "# Note: Your license UUID should never be shared. Please make sure you delete the license UUID\n",
    "# and rerun this cell before sharing the notebook with anyone.\n",
    "LICENSE_UUID = None\n",
    "# You can install individual modules from https://portal.ampl.com/dl/modules/\n",
    "MODULES = ['ampl', 'gurobi']\n",
    "# Set to True in order to install AMPL only once \n",
    "RUN_ONCE = True\n",
    "if RUNNING_IN_THE_CLOUD:\n",
    "    from ampltools import ampl_installer\n",
    "    ampl_dir = os.path.abspath(os.path.join(os.curdir, 'ampl.linux-intel64'))\n",
    "    ampl_installer(modules=MODULES, license_uuid=LICENSE_UUID, run_once=RUN_ONCE, verbose=True)\n",
    "    os.environ['PATH'] += os.pathsep + ampl_dir"
   ]
  },
  {
   "cell_type": "markdown",
   "metadata": {},
   "source": [
    "### Import and instantiate"
   ]
  },
  {
   "cell_type": "code",
   "execution_count": 4,
   "metadata": {},
   "outputs": [
    {
     "name": "stdout",
     "output_type": "stream",
     "text": [
      "option version 'AMPL Version 20220119 (Darwin-19.6.0, 64-bit)\\\n",
      "Demo license with maintenance expiring 20240131.\\\n",
      "Using license file \"/Users/fdabrandao/bin/ampl.macos64/ampl.lic\".\\\n",
      "';\n"
     ]
    }
   ],
   "source": [
    "from amplpy import AMPL, register_magics\n",
    "ampl = AMPL()\n",
    "ampl.eval('option version;')\n",
    "# Store %%ampl cells in the list _ampl_cells\n",
    "# Evaluate %%ampl_eval cells with ampl.eval()\n",
    "register_magics(store_name='_ampl_cells', ampl_object=ampl)"
   ]
  },
  {
   "cell_type": "markdown",
   "metadata": {},
   "source": [
    "### Basic pattern-cutting model"
   ]
  },
  {
   "cell_type": "code",
   "execution_count": 5,
   "metadata": {},
   "outputs": [],
   "source": [
    "%%ampl_eval\n",
    "param nPatterns integer > 0;\n",
    "set PATTERNS = 1..nPatterns; # patterns\n",
    "set WIDTHS; # finished widths\n",
    "param order {WIDTHS} >= 0; # rolls of width j ordered\n",
    "param overrun; # permitted overrun on any width\n",
    "param rolls {WIDTHS,PATTERNS} >= 0 default 0; # rolls of width i in pattern j\n",
    "\n",
    "var Cut {PATTERNS} integer >= 0; # raw rolls to cut in each pattern\n",
    "\n",
    "minimize TotalRawRolls: sum {p in PATTERNS} Cut[p];\n",
    "\n",
    "subject to FinishedRollLimits {w in WIDTHS}:\n",
    "  order[w] <= sum {p in PATTERNS} rolls[w,p] * Cut[p] <= order[w] + overrun;"
   ]
  },
  {
   "cell_type": "markdown",
   "metadata": {},
   "source": [
    "### Enumeration routine"
   ]
  },
  {
   "cell_type": "code",
   "execution_count": 6,
   "metadata": {},
   "outputs": [],
   "source": [
    "from math import floor\n",
    "\n",
    "def patternEnum(roll_width, widths, prefix=[]):\n",
    "    max_rep = int(floor(roll_width/widths[0]))\n",
    "    if len(widths) == 1:\n",
    "        patmat = [prefix+[max_rep]]\n",
    "    else:\n",
    "        patmat = []\n",
    "        for n in reversed(range(max_rep+1)):\n",
    "            patmat += patternEnum(roll_width-n*widths[0], widths[1:], prefix+[n])\n",
    "    return patmat"
   ]
  },
  {
   "cell_type": "markdown",
   "metadata": {},
   "source": [
    "### Plotting routine"
   ]
  },
  {
   "cell_type": "code",
   "execution_count": 7,
   "metadata": {},
   "outputs": [],
   "source": [
    "def cuttingPlot(roll_width, widths, solution):\n",
    "    import numpy as np\n",
    "    import matplotlib.pyplot as plt\n",
    "    ind = np.arange(len(solution))\n",
    "    acc = [0]*len(solution)\n",
    "    for p, (patt, rep) in enumerate(solution):\n",
    "        for i in range(len(widths)):\n",
    "            for j in range(patt[i]):\n",
    "                vec = [0]*len(solution)\n",
    "                vec[p] = widths[i]\n",
    "                plt.bar(ind, vec, width=0.35, bottom=acc)\n",
    "                acc[p] += widths[i]\n",
    "    plt.title('Solution')\n",
    "    plt.xticks(ind, tuple(\"x {:}\".format(rep) for patt, rep in solution))\n",
    "    plt.yticks(np.arange(0, roll_width, 10))\n",
    "    plt.show()"
   ]
  },
  {
   "cell_type": "markdown",
   "metadata": {},
   "source": [
    "### Set & generate data"
   ]
  },
  {
   "cell_type": "code",
   "execution_count": 8,
   "metadata": {},
   "outputs": [],
   "source": [
    "roll_width = 64.5\n",
    "overrun = 6\n",
    "orders = {\n",
    "    6.77: 10,\n",
    "    7.56: 40,\n",
    "    17.46: 33,\n",
    "    18.76: 10\n",
    "}\n",
    "widths = list(sorted(orders.keys(), reverse=True))\n",
    "patmat = patternEnum(roll_width, widths)"
   ]
  },
  {
   "cell_type": "markdown",
   "metadata": {},
   "source": [
    "### Send data to AMPL (Java/C++ style)"
   ]
  },
  {
   "cell_type": "code",
   "execution_count": 9,
   "metadata": {},
   "outputs": [],
   "source": [
    "# Send scalar values\n",
    "ampl.getParameter('overrun').set(overrun)\n",
    "ampl.getParameter('nPatterns').set(len(patmat))\n",
    "# Send order vector\n",
    "ampl.getSet('WIDTHS').setValues(widths)\n",
    "ampl.getParameter('order').setValues(orders)\n",
    "# Send pattern matrix\n",
    "ampl.getParameter('rolls').setValues({\n",
    "    (widths[i], 1+p): patmat[p][i]\n",
    "    for i in range(len(widths))\n",
    "    for p in range(len(patmat))\n",
    "})"
   ]
  },
  {
   "cell_type": "markdown",
   "metadata": {},
   "source": [
    "### Send data to AMPL (alternative style)"
   ]
  },
  {
   "cell_type": "code",
   "execution_count": 10,
   "metadata": {},
   "outputs": [],
   "source": [
    "# Send scalar values\n",
    "ampl.param['overrun'] = overrun\n",
    "ampl.param['nPatterns'] = len(patmat)\n",
    "# Send order vector\n",
    "ampl.set['WIDTHS'] = widths\n",
    "ampl.param['order'] = orders\n",
    "# Send pattern matrixc \n",
    "ampl.param['rolls'] = {\n",
    "    (widths[i], 1+p): patmat[p][i]\n",
    "    for i in range(len(widths))\n",
    "    for p in range(len(patmat))\n",
    "}"
   ]
  },
  {
   "cell_type": "markdown",
   "metadata": {},
   "source": [
    "### Solve and report"
   ]
  },
  {
   "cell_type": "code",
   "execution_count": 11,
   "metadata": {},
   "outputs": [
    {
     "name": "stdout",
     "output_type": "stream",
     "text": [
      "gurobi (Darwin x86_64), licchk(20131021), ASL(20211109)\n",
      "Gurobi 9.5.0: optimal solution; objective 18\n",
      "6 simplex iterations\n",
      "1 branch-and-cut nodes\n"
     ]
    },
    {
     "data": {
      "image/png": "[encoded data removed]",
      "text/plain": [
       "<Figure size 432x288 with 1 Axes>"
      ]
     },
     "metadata": {
      "needs_background": "light"
     },
     "output_type": "display_data"
    }
   ],
   "source": [
    "# Solve\n",
    "ampl.option['solver'] = 'gurobi'\n",
    "ampl.solve()\n",
    "# Retrieve solution\n",
    "cutting_plan = ampl.var['Cut'].getValues()\n",
    "cutvec = list(cutting_plan.getColumn('Cut.val'))\n",
    "\n",
    "# Display solution\n",
    "solution = [\n",
    "    (patmat[p], cutvec[p])\n",
    "    for p in range(len(patmat))\n",
    "    if cutvec[p] > 0\n",
    "]\n",
    "cuttingPlot(roll_width, widths, solution)"
   ]
  }
 ],
 "metadata": {
  "kernelspec": {
   "display_name": "Python 3 (ipykernel)",
   "language": "python",
   "name": "python3"
  },
  "language_info": {
   "codemirror_mode": {
    "name": "ipython",
    "version": 3
   },
   "file_extension": ".py",
   "mimetype": "text/x-python",
   "name": "python",
   "nbconvert_exporter": "python",
   "pygments_lexer": "ipython3",
   "version": "3.9.8"
  }
 },
 "nbformat": 4,
 "nbformat_minor": 2
}
