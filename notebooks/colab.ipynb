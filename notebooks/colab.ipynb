{
 "cells": [
  {
   "cell_type": "markdown",
   "metadata": {},
   "source": [
    "# AMPLPY: Google Colab & Kaggle Template\n",
    "\n",
    "[![Open In Colab](https://colab.research.google.com/assets/colab-badge.svg)](https://colab.research.google.com/github/ampl/amplpy/blob/master/notebooks/colab.ipynb)\n",
    "\n",
    "[![Kaggle](https://kaggle.com/static/images/open-in-kaggle.svg)](https://kaggle.com/kernels/welcome?src=https://github.com/ampl/amplpy/blob/master/notebooks/colab.ipynb)\n",
    "\n",
    "Documentation: http://amplpy.readthedocs.io\n",
    "\n",
    "GitHub Repository: https://github.com/ampl/amplpy\n",
    "\n",
    "PyPI Repository: https://pypi.python.org/pypi/amplpy\n",
    "\n",
    "Jupyter Notebooks: https://github.com/ampl/amplpy/tree/master/notebooks"
   ]
  },
  {
   "cell_type": "markdown",
   "metadata": {},
   "source": [
    "### Setup"
   ]
  },
  {
   "cell_type": "code",
   "execution_count": 1,
   "metadata": {},
   "outputs": [],
   "source": [
    "!pip install -q amplpy ampltools"
   ]
  },
  {
   "cell_type": "markdown",
   "metadata": {},
   "source": [
    "### Google Colab & Kaggle interagration"
   ]
  },
  {
   "cell_type": "code",
   "execution_count": 2,
   "metadata": {},
   "outputs": [],
   "source": [
    "MODULES=['ampl', 'coin']\n",
    "from ampltools import cloud_platform_name, ampl_notebook\n",
    "from amplpy import AMPL, register_magics\n",
    "if cloud_platform_name() is None:\n",
    "    ampl = AMPL() # Use local installation of AMPL\n",
    "else:\n",
    "    ampl = ampl_notebook(modules=MODULES) # Install AMPL and use it\n",
    "register_magics(ampl_object=ampl) # Evaluate %%ampl_eval cells with ampl.eval()"
   ]
  },
  {
   "cell_type": "markdown",
   "metadata": {},
   "source": [
    "### Use `%%ampl_eval` to evaluate AMPL commands"
   ]
  },
  {
   "cell_type": "code",
   "execution_count": 3,
   "metadata": {},
   "outputs": [
    {
     "name": "stdout",
     "output_type": "stream",
     "text": [
      "option version 'AMPL Version 20220219 (Darwin-19.6.0, 64-bit)\\\n",
      "Demo license with maintenance expiring 20240131.\\\n",
      "Using license file \"/Users/fdabrandao/bin/ampl.macos64/ampl.lic\".\\\n",
      "';\n"
     ]
    }
   ],
   "source": [
    "%%ampl_eval\n",
    "option version;"
   ]
  },
  {
   "cell_type": "markdown",
   "metadata": {},
   "source": [
    "### Use %%writeifile to create files"
   ]
  },
  {
   "cell_type": "code",
   "execution_count": 4,
   "metadata": {},
   "outputs": [
    {
     "name": "stdout",
     "output_type": "stream",
     "text": [
      "Overwriting cut2.mod\n"
     ]
    }
   ],
   "source": [
    "%%writefile cut2.mod\n",
    "\n",
    "  problem Cutting_Opt;\n",
    "# ----------------------------------------\n",
    "\n",
    "param nPAT integer >= 0, default 0;\n",
    "param roll_width;\n",
    "\n",
    "set PATTERNS = 1..nPAT;\n",
    "set WIDTHS;\n",
    "\n",
    "param orders {WIDTHS} > 0;\n",
    "param nbr {WIDTHS,PATTERNS} integer >= 0;\n",
    "\n",
    "   check {j in PATTERNS}: sum {i in WIDTHS} i * nbr[i,j] <= roll_width;\n",
    "\n",
    "var Cut {PATTERNS} integer >= 0;\n",
    "\n",
    "minimize Number: sum {j in PATTERNS} Cut[j];\n",
    "\n",
    "subject to Fill {i in WIDTHS}:\n",
    "   sum {j in PATTERNS} nbr[i,j] * Cut[j] >= orders[i];\n",
    "\n",
    "\n",
    "  problem Pattern_Gen;\n",
    "# ----------------------------------------\n",
    "\n",
    "param price {WIDTHS} default 0;\n",
    "\n",
    "var Use {WIDTHS} integer >= 0;\n",
    "\n",
    "minimize Reduced_Cost:\n",
    "   1 - sum {i in WIDTHS} price[i] * Use[i];\n",
    "\n",
    "subject to Width_Limit:\n",
    "   sum {i in WIDTHS} i * Use[i] <= roll_width;"
   ]
  },
  {
   "cell_type": "code",
   "execution_count": 5,
   "metadata": {},
   "outputs": [
    {
     "name": "stdout",
     "output_type": "stream",
     "text": [
      "Overwriting cut.dat\n"
     ]
    }
   ],
   "source": [
    "%%writefile cut.dat\n",
    "data;\n",
    "\n",
    "param roll_width := 110 ;\n",
    "\n",
    "param: WIDTHS: orders :=\n",
    "          20     48\n",
    "          45     35\n",
    "          50     24\n",
    "          55     10\n",
    "          75      8  ;"
   ]
  },
  {
   "cell_type": "code",
   "execution_count": 6,
   "metadata": {},
   "outputs": [
    {
     "name": "stdout",
     "output_type": "stream",
     "text": [
      "Overwriting cut2.run\n"
     ]
    }
   ],
   "source": [
    "%%writefile cut2.run\n",
    "# ----------------------------------------\n",
    "# GILMORE-GOMORY METHOD FOR\n",
    "# CUTTING STOCK PROBLEM\n",
    "# ----------------------------------------\n",
    "\n",
    "option solver cbc;\n",
    "option solution_round 6;\n",
    "\n",
    "model cut2.mod;\n",
    "data cut.dat;\n",
    "\n",
    "problem Cutting_Opt;\n",
    "   option relax_integrality 1;\n",
    "   option presolve 0;\n",
    "\n",
    "problem Pattern_Gen;\n",
    "   option relax_integrality 0;\n",
    "   option presolve 1;\n",
    "\n",
    "let nPAT := 0;\n",
    "\n",
    "for {i in WIDTHS} {\n",
    "   let nPAT := nPAT + 1;\n",
    "   let nbr[i,nPAT] := floor (roll_width/i);\n",
    "   let {i2 in WIDTHS: i2 <> i} nbr[i2,nPAT] := 0;\n",
    "   };\n",
    "\n",
    "repeat {\n",
    "   solve Cutting_Opt;\n",
    "\n",
    "   let {i in WIDTHS} price[i] := Fill[i].dual;\n",
    "\n",
    "   solve Pattern_Gen;\n",
    "\n",
    "   if Reduced_Cost < -0.00001 then {\n",
    "      let nPAT := nPAT + 1;\n",
    "      let {i in WIDTHS} nbr[i,nPAT] := Use[i];\n",
    "      }\n",
    "   else break;\n",
    "   };\n",
    "\n",
    "display nbr; \n",
    "display Cut;\n",
    "\n",
    "option Cutting_Opt.relax_integrality 0;\n",
    "option Cutting_Opt.presolve 10;\n",
    "solve Cutting_Opt;\n",
    "\n",
    "display Cut;"
   ]
  },
  {
   "cell_type": "markdown",
   "metadata": {},
   "source": [
    "### Use `%%ampl_eval` to run the script cut2.run"
   ]
  },
  {
   "cell_type": "code",
   "execution_count": 7,
   "metadata": {},
   "outputs": [
    {
     "name": "stdout",
     "output_type": "stream",
     "text": [
      "CBC 2.10.5: \b\b\b\b\b\b\b\b\b\b\b\bCBC 2.10.5 optimal, objective 52.1\n",
      "0 iterations\n",
      "CBC 2.10.5: \b\b\b\b\b\b\b\b\b\b\b\bCBC 2.10.5 optimal, objective -0.2\n",
      "0 nodes, 3 iterations, 0.005544 seconds\n",
      "CBC 2.10.5: \b\b\b\b\b\b\b\b\b\b\b\bCBC 2.10.5 optimal, objective 50.5\n",
      "1 iterations\n",
      "CBC 2.10.5: \b\b\b\b\b\b\b\b\b\b\b\bCBC 2.10.5 optimal, objective -0.2\n",
      "0 nodes, 0 iterations, 0.002618 seconds\n",
      "CBC 2.10.5: \b\b\b\b\b\b\b\b\b\b\b\bCBC 2.10.5 optimal, objective 47\n",
      "1 iterations\n",
      "CBC 2.10.5: \b\b\b\b\b\b\b\b\b\b\b\bCBC 2.10.5 optimal, objective -0.1\n",
      "0 nodes, 0 iterations, 0.003455 seconds\n",
      "CBC 2.10.5: \b\b\b\b\b\b\b\b\b\b\b\bCBC 2.10.5 optimal, objective 46.25\n",
      "1 iterations\n",
      "CBC 2.10.5: \b\b\b\b\b\b\b\b\b\b\b\bCBC 2.10.5 optimal, objective 0\n",
      "0 nodes, 6 iterations, 0.004011 seconds\n",
      "nbr [*,*] (tr)\n",
      ":  20  45  50  55  75    :=\n",
      "1   5   0   0   0   0\n",
      "2   0   2   0   0   0\n",
      "3   0   0   2   0   0\n",
      "4   0   0   0   2   0\n",
      "5   0   0   0   0   1\n",
      "6   1   0   0   0   1\n",
      "7   1   2   0   0   0\n",
      "8   3   0   1   0   0\n",
      ";\n",
      "\n",
      "Cut [*] :=\n",
      "1   0\n",
      "2   0\n",
      "3   8.25\n",
      "4   5\n",
      "5   0\n",
      "6   8\n",
      "7  17.5\n",
      "8   7.5\n",
      ";\n",
      "\n",
      "CBC 2.10.5: \b\b\b\b\b\b\b\b\b\b\b\bCBC 2.10.5 optimal, objective 47\n",
      "0 nodes, 0 iterations, 0.003368 seconds\n",
      "Cut [*] :=\n",
      "1   1\n",
      "2   0\n",
      "3   9\n",
      "4   5\n",
      "5   0\n",
      "6   8\n",
      "7  18\n",
      "8   6\n",
      ";\n",
      "\n"
     ]
    }
   ],
   "source": [
    "%%ampl_eval\n",
    "commands cut2.run;"
   ]
  },
  {
   "cell_type": "code",
   "execution_count": null,
   "metadata": {},
   "outputs": [],
   "source": []
  }
 ],
 "metadata": {
  "kernelspec": {
   "display_name": "Python 3 (ipykernel)",
   "language": "python",
   "name": "python3"
  },
  "language_info": {
   "codemirror_mode": {
    "name": "ipython",
    "version": 3
   },
   "file_extension": ".py",
   "mimetype": "text/x-python",
   "name": "python",
   "nbconvert_exporter": "python",
   "pygments_lexer": "ipython3",
   "version": "3.9.8"
  }
 },
 "nbformat": 4,
 "nbformat_minor": 2
}
