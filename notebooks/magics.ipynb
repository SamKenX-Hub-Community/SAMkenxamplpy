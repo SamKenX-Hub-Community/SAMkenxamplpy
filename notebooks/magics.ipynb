{
 "cells": [
  {
   "cell_type": "markdown",
   "metadata": {},
   "source": [
    "# AMPLPY: Jupyter Notebook Integration\n",
    "\n",
    "[![Open In Colab](https://colab.research.google.com/assets/colab-badge.svg)](https://colab.research.google.com/github/ampl/amplpy/blob/master/notebooks/magics.ipynb)\n",
    "\n",
    "Documentation: http://amplpy.readthedocs.io\n",
    "\n",
    "GitHub Repository: https://github.com/ampl/amplpy\n",
    "\n",
    "PyPI Repository: https://pypi.python.org/pypi/amplpy\n",
    "\n",
    "Jupyter Notebooks: https://github.com/ampl/amplpy/tree/master/notebooks"
   ]
  },
  {
   "cell_type": "markdown",
   "metadata": {},
   "source": [
    "### Setup"
   ]
  },
  {
   "cell_type": "code",
   "execution_count": 1,
   "metadata": {},
   "outputs": [],
   "source": [
    "!pip install -q amplpy"
   ]
  },
  {
   "cell_type": "markdown",
   "metadata": {},
   "source": [
    "### Google Colab interagration"
   ]
  },
  {
   "cell_type": "code",
   "execution_count": 2,
   "metadata": {},
   "outputs": [],
   "source": [
    "%%bash\n",
    "test ! -z $COLAB_GPU || exit 0  # Run only if running on Google Colab\n",
    "test ! -f ampl.installed || exit 0  # Run only once\n",
    "rm -rf ampl.linux-intel64\n",
    "# You can install a demo bundle with all solvers:\n",
    "#   curl -O https://portal.ampl.com/dl/amplce/ampl.linux64.tgz && tar xzf ampl.linux64.tgz\n",
    "# Or pick individual modules (recommended in order to reduce disk usage):\n",
    "curl -O https://portal.ampl.com/dl/modules/ampl-module.linux64.tgz && tar xzf ampl-module.linux64.tgz\n",
    "curl -O https://portal.ampl.com/dl/modules/gurobi-module.linux64.tgz && tar xzf gurobi-module.linux64.tgz\n",
    "cp ampl.linux-intel64/ampl.lic ampl.linux-intel64/ampl.lic.demo\n",
    "touch ampl.installed"
   ]
  },
  {
   "cell_type": "code",
   "execution_count": 3,
   "metadata": {},
   "outputs": [],
   "source": [
    "%%bash\n",
    "# If you have an AMPL Cloud License or an AMPL CE license, you can use it on Google Colab\n",
    "# Note: Your license UUID should never be shared. Please make sure you delete the license UUID\n",
    "# and rerun this cell before sharing the notebook with anyone\n",
    "LICENSE_UUID=\n",
    "test ! -z $COLAB_GPU || exit 0  # Run only if running on Google Colab\n",
    "cd ampl.linux-intel64 && pwd\n",
    "test -z $LICENSE_UUID && cp ampl.lic.demo ampl.lic  # Restore demo license in case LICENSE_UUID is empty\n",
    "test ! -z $LICENSE_UUID && curl -O https://portal.ampl.com/download/license/$LICENSE_UUID/ampl.lic\n",
    "./ampl -vvq"
   ]
  },
  {
   "cell_type": "code",
   "execution_count": 4,
   "metadata": {},
   "outputs": [],
   "source": [
    "import os\n",
    "if 'COLAB_GPU' in os.environ:\n",
    "    os.environ['PATH'] += os.pathsep + '/content/ampl.linux-intel64'"
   ]
  },
  {
   "cell_type": "markdown",
   "metadata": {},
   "source": [
    "### Imports"
   ]
  },
  {
   "cell_type": "code",
   "execution_count": 5,
   "metadata": {},
   "outputs": [],
   "source": [
    "from amplpy import AMPL, register_magics"
   ]
  },
  {
   "cell_type": "markdown",
   "metadata": {},
   "source": [
    "\n",
    "### Instantiate an ampl object and register jupyter magics"
   ]
  },
  {
   "cell_type": "code",
   "execution_count": 6,
   "metadata": {},
   "outputs": [],
   "source": [
    "ampl = AMPL()\n",
    "# Store %%ampl cells in the list _ampl_cells\n",
    "# Evaluate %%ampl_eval cells with ampl.eval()\n",
    "register_magics(store_name='_ampl_cells', ampl_object=ampl)"
   ]
  },
  {
   "cell_type": "markdown",
   "metadata": {},
   "source": [
    "### Use `%%ampl_eval` to pass the model to AMPL"
   ]
  },
  {
   "cell_type": "code",
   "execution_count": 7,
   "metadata": {},
   "outputs": [],
   "source": [
    "%%ampl_eval\n",
    "set SIZES;\n",
    "param capacity >= 0;\n",
    "param value {SIZES};\n",
    "var Qty {SIZES} binary;\n",
    "maximize TotVal: sum {s in SIZES} value[s] * Qty[s];\n",
    "subject to Cap: sum {s in SIZES} s * Qty[s] <= capacity;"
   ]
  },
  {
   "cell_type": "markdown",
   "metadata": {},
   "source": [
    "### Set data"
   ]
  },
  {
   "cell_type": "code",
   "execution_count": 8,
   "metadata": {},
   "outputs": [],
   "source": [
    "ampl.set['SIZES'] = [5, 4, 6, 3]\n",
    "ampl.param['value'] = [10, 40, 30, 50]\n",
    "ampl.param['capacity'] = 10"
   ]
  },
  {
   "cell_type": "markdown",
   "metadata": {},
   "source": [
    "### Use `%%ampl_eval` to display values"
   ]
  },
  {
   "cell_type": "code",
   "execution_count": 9,
   "metadata": {},
   "outputs": [
    {
     "name": "stdout",
     "output_type": "stream",
     "text": [
      "set SIZES := 5 4 6 3;\n",
      "\n",
      "value [*] :=\n",
      "3  50\n",
      "4  40\n",
      "5  10\n",
      "6  30\n",
      ";\n",
      "\n",
      "capacity = 10\n",
      "\n"
     ]
    }
   ],
   "source": [
    "%%ampl_eval\n",
    "display SIZES;\n",
    "display value;\n",
    "display capacity;"
   ]
  },
  {
   "cell_type": "markdown",
   "metadata": {},
   "source": [
    "### Use amplpy to retrive values"
   ]
  },
  {
   "cell_type": "code",
   "execution_count": 10,
   "metadata": {},
   "outputs": [
    {
     "name": "stdout",
     "output_type": "stream",
     "text": [
      "SIZES: [5.0, 4.0, 6.0, 3.0]\n",
      "value: {3.0: 50.0, 4.0: 40.0, 5.0: 10.0, 6.0: 30.0}\n",
      "capacity: 10.0\n"
     ]
    }
   ],
   "source": [
    "print('SIZES:', ampl.set['SIZES'].getValues().toList())\n",
    "print('value:', ampl.param['value'].getValues().toDict())\n",
    "print('capacity:', ampl.param['capacity'].value())"
   ]
  },
  {
   "cell_type": "markdown",
   "metadata": {},
   "source": [
    "### Use `%%ampl_eval` to solve the model"
   ]
  },
  {
   "cell_type": "code",
   "execution_count": 11,
   "metadata": {},
   "outputs": [
    {
     "name": "stdout",
     "output_type": "stream",
     "text": [
      "Gurobi 9.5.0: outlev=1\n",
      "Set parameter OutputFlag to value 1\n",
      "Set parameter InfUnbdInfo to value 1\n",
      "Gurobi Optimizer version 9.5.0 build v9.5.0rc5 (mac64[x86])\n",
      "Thread count: 4 physical cores, 8 logical processors, using up to 8 threads\n",
      "Optimize a model with 1 rows, 4 columns and 4 nonzeros\n",
      "Model fingerprint: 0x1dc33b55\n",
      "Variable types: 0 continuous, 4 integer (4 binary)\n",
      "Coefficient statistics:\n",
      "  Matrix range     [3e+00, 6e+00]\n",
      "  Objective range  [1e+01, 5e+01]\n",
      "  Bounds range     [1e+00, 1e+00]\n",
      "  RHS range        [1e+01, 1e+01]\n",
      "Found heuristic solution: objective 50.0000000\n",
      "Presolve removed 1 rows and 4 columns\n",
      "Presolve time: 0.01s\n",
      "Presolve: All rows and columns removed\n",
      "\n",
      "Explored 0 nodes (0 simplex iterations) in 0.01 seconds (0.00 work units)\n",
      "Thread count was 1 (of 8 available processors)\n",
      "\n",
      "Solution count 2: 90 50 \n",
      "\n",
      "Optimal solution found (tolerance 1.00e-04)\n",
      "Best objective 9.000000000000e+01, best bound 9.000000000000e+01, gap 0.0000%\n",
      "Set parameter Presolve to value 0\n",
      "Set parameter Method to value 1\n",
      "Gurobi Optimizer version 9.5.0 build v9.5.0rc5 (mac64[x86])\n",
      "Thread count: 4 physical cores, 8 logical processors, using up to 8 threads\n",
      "Optimize a model with 1 rows, 4 columns and 4 nonzeros\n",
      "Model fingerprint: 0xe07c951d\n",
      "Coefficient statistics:\n",
      "  Matrix range     [3e+00, 6e+00]\n",
      "  Objective range  [1e+01, 5e+01]\n",
      "  Bounds range     [1e+00, 1e+00]\n",
      "  RHS range        [1e+01, 1e+01]\n",
      "Iteration    Objective       Primal Inf.    Dual Inf.      Time\n",
      "       0    9.0000000e+01   0.000000e+00   0.000000e+00      0s\n",
      "\n",
      "Solved in 0 iterations and 0.00 seconds (0.00 work units)\n",
      "Optimal objective  9.000000000e+01\n",
      "Gurobi 9.5.0: optimal solution; objective 90\n"
     ]
    }
   ],
   "source": [
    "%%ampl_eval\n",
    "option solver gurobi;\n",
    "option gurobi_options 'outlev=1';\n",
    "solve;"
   ]
  }
 ],
 "metadata": {
  "kernelspec": {
   "display_name": "Python 3 (ipykernel)",
   "language": "python",
   "name": "python3"
  },
  "language_info": {
   "codemirror_mode": {
    "name": "ipython",
    "version": 3
   },
   "file_extension": ".py",
   "mimetype": "text/x-python",
   "name": "python",
   "nbconvert_exporter": "python",
   "pygments_lexer": "ipython3",
   "version": "3.9.8"
  }
 },
 "nbformat": 4,
 "nbformat_minor": 2
}
