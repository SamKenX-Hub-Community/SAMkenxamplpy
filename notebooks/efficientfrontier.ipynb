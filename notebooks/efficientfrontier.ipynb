{
  "cells": [
    {
      "cell_type": "markdown",
      "metadata": {
        "id": "Q72dLDiaRoZ5"
      },
      "source": [
        "Install needed modules and authenticate user to use google sheets"
      ]
    },
    {
      "cell_type": "code",
      "execution_count": null,
      "metadata": {
        "id": "aKiYKyDUEOyV"
      },
      "outputs": [],
      "source": [
        "from google.colab import auth\n",
        "auth.authenticate_user()"
      ]
    },
    {
      "cell_type": "code",
      "execution_count": null,
      "metadata": {
        "id": "JVIEGBHREh59"
      },
      "outputs": [],
      "source": [
        "!pip install -q amplpy ampltools gspread --upgrade"
      ]
    },
    {
      "cell_type": "code",
      "execution_count": null,
      "metadata": {
        "colab": {
          "base_uri": "https://localhost:8080/"
        },
        "id": "QFXXgRbZEon0",
        "outputId": "21a6e1c3-493c-4f81-95b7-1b508ddd7b34"
      },
      "outputs": [],
      "source": [
        "# If you have an AMPL Cloud License or an AMPL CE license, you can use it on Google Colab and similar platforms.\n",
        "# Note: Your license UUID should never be shared. Please make sure you delete the license UUID\n",
        "# and rerun this cell before sharing the notebook with anyone.\n",
        "LICENSE_UUID = None\n",
        "# You can install individual modules from https://portal.ampl.com/dl/modules/\n",
        "MODULES = ['ampl', 'cplex']\n",
        "# Set to True in order to install AMPL only once \n",
        "RUN_ONCE = True\n",
        "import os\n",
        "from ampltools import ampl_installer, cloud_platform_name\n",
        "if cloud_platform_name() is not None:\n",
        "    ampl_dir = os.path.abspath(os.path.join(os.curdir, 'ampl.linux-intel64'))\n",
        "    ampl_installer(ampl_dir, modules=MODULES, license_uuid=LICENSE_UUID, run_once=RUN_ONCE, verbose=True)\n",
        "    os.environ['PATH'] += os.pathsep + ampl_dir"
      ]
    },
    {
      "cell_type": "code",
      "execution_count": null,
      "metadata": {
        "id": "RQJJ0oUNE4G4"
      },
      "outputs": [],
      "source": [
        "import gspread\n",
        "from google.auth import default\n",
        "creds, _ = default()\n",
        "gclient = gspread.authorize(creds)\n",
        "\n",
        "def open_spreedsheet(name):\n",
        "    if name.startswith('https://'):\n",
        "        return gclient.open_by_url(name)\n",
        "    return gclient.open(name)\n",
        "\n",
        "import pandas as pd\n",
        "\n",
        "def get_worksheet_values(name):\n",
        "    return spreedsheet.worksheet(name).get_values(value_render_option='UNFORMATTED_VALUE')\n",
        "\n",
        "def table_to_dataframe(rows):\n",
        "    return pd.DataFrame(rows[1:], columns=rows[0]).set_index(rows[0][0])\n",
        "\n",
        "def matrix_to_dataframe(rows, tr=False, nameOverride = None):\n",
        "    col_labels = rows[0][1:]\n",
        "    row_labels = [row[0] for row in rows[1:]]\n",
        "    def label(pair):\n",
        "        return pair if not tr else (pair[1], pair[0])\n",
        "    data = {\n",
        "        label((rlabel, clabel)): rows[i+1][j+1]\n",
        "        for i, rlabel in enumerate(row_labels)\n",
        "        for j, clabel in enumerate(col_labels)}\n",
        "    df = pd.Series(data).reset_index()\n",
        "    name = nameOverride if nameOverride else rows[0][0]\n",
        "    df.columns = ['index1', 'index2', name]\n",
        "    return df.set_index(['index1', 'index2'])"
      ]
    },
    {
      "cell_type": "code",
      "execution_count": null,
      "metadata": {
        "id": "kT-TCebDEsz4"
      },
      "outputs": [],
      "source": [
        "from amplpy import AMPL, register_magics\n",
        "ampl = AMPL()\n",
        "# Store %%ampl cells in the list _ampl_cells\n",
        "# Evaluate %%ampl_eval cells with ampl.eval()\n",
        "register_magics(store_name='_ampl_cells', ampl_object=ampl)"
      ]
    },
    {
      "cell_type": "markdown",
      "metadata": {
        "id": "GV_i-6_HQvIA"
      },
      "source": [
        "Open connection to the spreadsheet and get the data, using the utility functions in ampltools to get pandas dataframes."
      ]
    },
    {
      "cell_type": "code",
      "execution_count": null,
      "metadata": {
        "id": "yCI9AMVFE4B3"
      },
      "outputs": [],
      "source": [
        "spreedsheet = open_spreedsheet(\"https://docs.google.com/spreadsheets/d/1d9wRk2PJgYsjiNVoKi1FcawGSVUB5mxSeQUBdEleUv4/edit?usp=sharing\")\n",
        "\n",
        "rows = get_worksheet_values('covariance')\n",
        "# To be able to use ampl.set_data, we override the data column \n",
        "# of the dataframe to the name of the parameter we will be setting (S)\n",
        "covar = matrix_to_dataframe(rows, nameOverride = \"S\")\n",
        "\n",
        "rows = get_worksheet_values('expectedReturns')\n",
        "expected = table_to_dataframe(rows)\n",
        "\n"
      ]
    },
    {
      "cell_type": "markdown",
      "metadata": {
        "id": "25oT2-OQRnjh"
      },
      "source": [
        "The following is a version of Markowitz mean-variance model, that can be used to calculate the efficient frontier"
      ]
    },
    {
      "cell_type": "code",
      "execution_count": null,
      "metadata": {
        "id": "pLtarkfFK2Rl"
      },
      "outputs": [],
      "source": [
        "%%ampl_eval\n",
        "\n",
        "set A ordered;         # assets\n",
        "\n",
        "param S{A, A};         # cov matrix\n",
        "param mu{A} default 0; # expected returns\n",
        "param lb default 0;\n",
        "param ub default Infinity;\n",
        "param targetReturn default -Infinity;\n",
        "\n",
        "var w{A} >= lb <= ub;  # weights\n",
        "var portfolioReturn >= targetReturn;\n",
        "\n",
        "minimize portfolio_variance: sum {i in A, j in A} S[i, j] * w[i] * w[j];\n",
        "maximize portfolio_return: sum{a in A} mu[a] * w[a];\n",
        "\n",
        "s.t. def_total_weight: sum {i in A}  w[i] = 1;\n",
        "s.t. def_target_return: sum{a in A} mu[a] * w[a] >= targetReturn;"
      ]
    },
    {
      "cell_type": "markdown",
      "metadata": {
        "id": "yqurA6V9SWjf"
      },
      "source": [
        "Using amplpy we set the data of the ampl entities using the dataframes we got from google sheets"
      ]
    },
    {
      "cell_type": "code",
      "execution_count": null,
      "metadata": {
        "id": "OODUiL4OVEVt"
      },
      "outputs": [],
      "source": [
        "# Set expected returns\n",
        "ampl.set_data(expected, set_name=\"A\")\n",
        "# Set covariance data\n",
        "ampl.set_data(covar)\n"
      ]
    },
    {
      "cell_type": "markdown",
      "metadata": {
        "id": "q-IKUOv4Sfsl"
      },
      "source": [
        "Set a few options in AMPL to streamline the execution"
      ]
    },
    {
      "cell_type": "code",
      "execution_count": null,
      "metadata": {
        "id": "0KxgnB0taV6O"
      },
      "outputs": [],
      "source": [
        "%%ampl_eval\n",
        "# Set options\n",
        "option solver cplex;\n",
        "option solver_msg 0;\n",
        "\n",
        "# The following declarations are needed for the efficient frontier script\n",
        "param nPoints := 20;\n",
        "param minReturn;\n",
        "param maxReturn;\n",
        "param variances{1..nPoints+1};\n",
        "param returns{1..nPoints+1};\n",
        "param delta = (maxReturn-minReturn)/nPoints;"
      ]
    },
    {
      "cell_type": "markdown",
      "metadata": {
        "id": "_Bpvh1ecT8z2"
      },
      "source": [
        "Calculate the extreme points for the efficient frontier procedure: get the minimum return by solving the min varance problem, then get the maximum return by solving the max return problem."
      ]
    },
    {
      "cell_type": "code",
      "execution_count": null,
      "metadata": {
        "colab": {
          "base_uri": "https://localhost:8080/"
        },
        "id": "pYG0mQrWNOwJ",
        "outputId": "cf1935fe-6bc8-4a5b-86fc-bebf48107b65"
      },
      "outputs": [],
      "source": [
        "%%ampl_eval\n",
        "# Solve the min variance problem to get the minimum return\n",
        "objective portfolio_variance;\n",
        "solve > NUL;\n",
        "printf \"Min portfolio variance: %f, return: %f\\n\", portfolio_variance, portfolio_return;\n",
        "\n",
        "let minReturn := portfolio_return;\n",
        "# Store the first data point in the efficient frontier\n",
        "let variances[1] := portfolio_variance;\n",
        "let returns[1] := minReturn;\n",
        "\n",
        "# Solve the max return problem\n",
        "objective portfolio_return;\n",
        "solve > NUL;\n",
        "printf \"Max portfolio variance: %f, return: %f\", portfolio_variance, portfolio_return;\n",
        "let maxReturn := portfolio_return;"
      ]
    },
    {
      "cell_type": "markdown",
      "metadata": {
        "id": "uonczgPUUXeL"
      },
      "source": [
        "Now that we have the upper and lower values for the expected returns, iterate `nPoints` times setting the desired return at regularly increasing levels and solve the min variance problem, thus getting the points (return - variance) needed to plot the efficient frontier."
      ]
    },
    {
      "cell_type": "code",
      "execution_count": null,
      "metadata": {
        "colab": {
          "base_uri": "https://localhost:8080/"
        },
        "id": "RDpBr66uB8F1",
        "outputId": "31ac12d3-f69d-4855-d74a-8e543b7eedec"
      },
      "outputs": [],
      "source": [
        "%%ampl_eval\n",
        "\n",
        "# Switch objective to portfolio variance\n",
        "objective portfolio_variance;\n",
        "\n",
        "# Set starting point\n",
        "let targetReturn := minReturn;\n",
        "# Calculate the efficient frontier\n",
        "for{j in 1..nPoints}\n",
        "{\n",
        "\tlet targetReturn := targetReturn+delta;\n",
        "  solve > NUL;\n",
        "  printf \"Return %f, variance %f\\n\", portfolio_return, portfolio_variance;\n",
        "  let returns[j+1] := portfolio_return;\n",
        "\tlet variances[j+1]:=portfolio_variance;\n",
        "};"
      ]
    },
    {
      "cell_type": "markdown",
      "metadata": {
        "id": "3VjN2AhoU0FT"
      },
      "source": [
        "Finally, we plot the efficient frontier"
      ]
    },
    {
      "cell_type": "code",
      "execution_count": null,
      "metadata": {
        "colab": {
          "base_uri": "https://localhost:8080/",
          "height": 295
        },
        "id": "-ULeZTu8Oh_Q",
        "outputId": "26b007cc-7dbc-430c-9a4a-3001adb1e9f1"
      },
      "outputs": [],
      "source": [
        "import matplotlib.pyplot as plt\n",
        "df = ampl.get_data('returns', 'variances').toPandas()\n",
        "plt.plot(df.variances*1000, df.returns)\n",
        "plt.xlabel(\"Variance*1000\")\n",
        "plt.ylabel(\"Expected Return\")\n",
        "plt.title(\"Efficient frontier\")\n",
        "plt.show()\n"
      ]
    }
  ],
  "metadata": {
    "colab": {
      "collapsed_sections": [],
      "name": "efficientfrontier.ipynb",
      "provenance": []
    },
    "kernelspec": {
      "display_name": "Python 3",
      "name": "python3"
    },
    "language_info": {
      "name": "python"
    }
  },
  "nbformat": 4,
  "nbformat_minor": 0
}
