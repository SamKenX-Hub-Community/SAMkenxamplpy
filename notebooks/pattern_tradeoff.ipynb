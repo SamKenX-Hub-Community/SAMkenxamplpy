{
 "cells": [
  {
   "cell_type": "markdown",
   "metadata": {},
   "source": [
    "# AMPLPY: Roll Cutting - Revision 1 & 2\n",
    "\n",
    "[![Open In Colab](https://colab.research.google.com/assets/colab-badge.svg)](https://colab.research.google.com/github/ampl/amplpy/blob/master/notebooks/pattern_tradeoff.ipynb)\n",
    "\n",
    "Documentation: http://amplpy.readthedocs.io\n",
    "\n",
    "GitHub Repository: https://github.com/ampl/amplpy\n",
    "\n",
    "PyPI Repository: https://pypi.python.org/pypi/amplpy"
   ]
  },
  {
   "cell_type": "markdown",
   "metadata": {},
   "source": [
    "### Setup"
   ]
  },
  {
   "cell_type": "code",
   "execution_count": 1,
   "metadata": {},
   "outputs": [],
   "source": [
    "!pip install -q amplpy"
   ]
  },
  {
   "cell_type": "markdown",
   "metadata": {},
   "source": [
    "### Google Colab integration"
   ]
  },
  {
   "cell_type": "code",
   "execution_count": 2,
   "metadata": {},
   "outputs": [],
   "source": [
    "%%bash\n",
    "[[ ! -e /colabtools ]] && exit  # Run only if running on Google Colab\n",
    "rm -rf ampl.linux-intel64\n",
    "#!curl -O https://portal.ampl.com/dl/amplce/ampl.linux64.tgz && tar xzf ampl.linux64.tgz \n",
    "curl -O https://portal.ampl.com/dl/modules/ampl-module.linux64.tgz && tar xzf ampl-module.linux64.tgz\n",
    "curl -O https://portal.ampl.com/dl/modules/gurobi-module.linux64.tgz && tar xzf gurobi-module.linux64.tgz\n",
    "cd ampl.linux-intel64 && pwd\n",
    "#LICENSE_UUID=\n",
    "test ! -z $LICENSE_UUID && curl -O https://portal.ampl.com/download/license/$LICENSE_UUID/ampl.lic"
   ]
  },
  {
   "cell_type": "code",
   "execution_count": 3,
   "metadata": {},
   "outputs": [],
   "source": [
    "import os\n",
    "if os.path.exists('/colabtools'):\n",
    "    os.environ['PATH'] += os.pathsep + '/content/ampl.linux-intel64'"
   ]
  },
  {
   "cell_type": "markdown",
   "metadata": {},
   "source": [
    "## Imports"
   ]
  },
  {
   "cell_type": "code",
   "execution_count": 4,
   "metadata": {},
   "outputs": [],
   "source": [
    "from amplpy import AMPL\n",
    "from math import floor"
   ]
  },
  {
   "cell_type": "markdown",
   "metadata": {},
   "source": [
    "## Roll Cutting - Revision 1"
   ]
  },
  {
   "cell_type": "code",
   "execution_count": 5,
   "metadata": {},
   "outputs": [
    {
     "name": "stdout",
     "output_type": "stream",
     "text": [
      "param roll_width > 0;\n",
      "\n",
      "set WIDTHS;\n",
      "param orders {WIDTHS} > 0;\n",
      "\n",
      "param nPAT integer >= 0;\n",
      "param nbr {WIDTHS,1..nPAT} integer >= 0;\n",
      "\n",
      "var Cut {1..nPAT} integer >= 0;\n",
      "\n",
      "minimize Number:\n",
      "   sum {j in 1..nPAT} Cut[j];\n",
      "minimize Waste:\n",
      "   sum {j in 1..nPAT} Cut[j] * (roll_width - sum {i in WIDTHS} i * nbr[i,j]);\n",
      "\n",
      "subj to Fulfill {i in WIDTHS}:\n",
      "   sum {j in 1..nPAT} nbr[i,j] * Cut[j] >= orders[i];\n",
      "\n"
     ]
    }
   ],
   "source": [
    "with open(os.path.join('models', 'cutRev1.mod'), 'r') as f:\n",
    "    print(f.read())"
   ]
  },
  {
   "cell_type": "code",
   "execution_count": 6,
   "metadata": {},
   "outputs": [
    {
     "name": "stdout",
     "output_type": "stream",
     "text": [
      "\n",
      "param roll_width := 64.5;\n",
      "\n",
      "param: WIDTHS: orders :=\n",
      "         6.77    10\n",
      "         7.56    40\n",
      "        17.46    33\n",
      "        18.76    10 ;\n",
      "\n",
      "param nPAT := 9 ;\n",
      "\n",
      "param nbr:  1  2  3  4  5  6  7  8  9 :=\n",
      "     6.77   0  1  1  0  3  2  0  1  4\n",
      "     7.56   1  0  2  1  1  4  6  5  2\n",
      "    17.46   0  1  0  2  1  0  1  1  1\n",
      "    18.76   3  2  2  1  1  1  0  0  0 ;\n",
      "\n"
     ]
    }
   ],
   "source": [
    "with open(os.path.join('models', 'cutRev1.dat'), 'r') as f:\n",
    "    print(f.read())"
   ]
  },
  {
   "cell_type": "markdown",
   "metadata": {},
   "source": [
    "### Set up AMPL model"
   ]
  },
  {
   "cell_type": "code",
   "execution_count": 7,
   "metadata": {},
   "outputs": [],
   "source": [
    "# Initialize\n",
    "ampl = AMPL()\n",
    "ampl.option['solver'] = 'gurobi'\n",
    "ampl.read(os.path.join('models', 'cutRev1.mod'))\n",
    "ampl.readData(os.path.join('models', 'cutRev1.dat'))"
   ]
  },
  {
   "cell_type": "markdown",
   "metadata": {},
   "source": [
    "### Optimal solution for the objective Number"
   ]
  },
  {
   "cell_type": "code",
   "execution_count": 8,
   "metadata": {},
   "outputs": [
    {
     "name": "stdout",
     "output_type": "stream",
     "text": [
      "Gurobi 9.5.0: optimal solution; objective 20\n",
      "3 simplex iterations\n",
      "1 branch-and-cut nodes\n",
      "Number = 20\n",
      "Waste = 63.62\n",
      "\n"
     ]
    }
   ],
   "source": [
    "ampl.eval('objective Number; solve;')\n",
    "ampl.display('Number', 'Waste')"
   ]
  },
  {
   "cell_type": "markdown",
   "metadata": {},
   "source": [
    "### Optimal solution for the objective Waste"
   ]
  },
  {
   "cell_type": "code",
   "execution_count": 9,
   "metadata": {},
   "outputs": [
    {
     "name": "stdout",
     "output_type": "stream",
     "text": [
      "Gurobi 9.5.0: optimal solution; objective 15.62\n",
      "2 simplex iterations\n",
      "1 branch-and-cut nodes\n",
      "Number = 35\n",
      "Waste = 15.62\n",
      "\n"
     ]
    }
   ],
   "source": [
    "ampl.eval('objective Waste; solve;')\n",
    "ampl.display('Number', 'Waste')"
   ]
  },
  {
   "cell_type": "markdown",
   "metadata": {},
   "source": [
    "## Roll Cutting - Revision 2"
   ]
  },
  {
   "cell_type": "code",
   "execution_count": 10,
   "metadata": {},
   "outputs": [
    {
     "name": "stdout",
     "output_type": "stream",
     "text": [
      "param roll_width > 0;\n",
      "param over_lim integer >= 0;\n",
      "\n",
      "set WIDTHS;\n",
      "param orders {WIDTHS} > 0;\n",
      "\n",
      "param nPAT integer >= 0;\n",
      "param nbr {WIDTHS,1..nPAT} integer >= 0;\n",
      "\n",
      "var Cut {1..nPAT} integer >= 0;\n",
      "\n",
      "minimize Number:\n",
      "   sum {j in 1..nPAT} Cut[j];\n",
      "minimize Waste:\n",
      "   sum {j in 1..nPAT} Cut[j] * (roll_width - sum {i in WIDTHS} i * nbr[i,j]);\n",
      "\n",
      "subj to Fulfill {i in WIDTHS}:\n",
      "   orders[i] <= sum {j in 1..nPAT} nbr[i,j] * Cut[j] <= orders[i] + over_lim;\n",
      "\n"
     ]
    }
   ],
   "source": [
    "with open(os.path.join('models', 'cutRev2.mod'), 'r') as f:\n",
    "    print(f.read())"
   ]
  },
  {
   "cell_type": "code",
   "execution_count": 11,
   "metadata": {},
   "outputs": [
    {
     "name": "stdout",
     "output_type": "stream",
     "text": [
      "\n",
      "param roll_width := 64.5;\n",
      "param over_lim := 10 ;\n",
      "\n",
      "param: WIDTHS: orders :=\n",
      "         6.77    10\n",
      "         7.56    40\n",
      "        17.46    33\n",
      "        18.76    10 ;\n",
      "\n",
      "param nPAT := 9 ;\n",
      "\n",
      "param nbr:  1  2  3  4  5  6  7  8  9 :=\n",
      "     6.77   0  1  1  0  3  2  0  1  4\n",
      "     7.56   1  0  2  1  1  4  6  5  2\n",
      "    17.46   0  1  0  2  1  0  1  1  1\n",
      "    18.76   3  2  2  1  1  1  0  0  0 ;\n",
      "\n"
     ]
    }
   ],
   "source": [
    "with open(os.path.join('models', 'cutRev2.dat'), 'r') as f:\n",
    "    print(f.read())"
   ]
  },
  {
   "cell_type": "markdown",
   "metadata": {},
   "source": [
    "### Set up AMPL model & initial solve"
   ]
  },
  {
   "cell_type": "code",
   "execution_count": 12,
   "metadata": {},
   "outputs": [
    {
     "name": "stdout",
     "output_type": "stream",
     "text": [
      "Gurobi 9.5.0: optimal solution; objective 20\n",
      "7 simplex iterations\n",
      "1 branch-and-cut nodes\n"
     ]
    }
   ],
   "source": [
    "# Initialize\n",
    "ampl = AMPL()\n",
    "ampl.option['solver'] = 'gurobi'\n",
    "ampl.read(os.path.join('models', 'cutRev2.mod'))\n",
    "ampl.readData(os.path.join('models', 'cutRev2.dat'))\n",
    "\n",
    "ampl.eval('objective Number; solve;')\n",
    "min_number = ampl.getValue('Number')\n",
    "min_numwaste = ampl.getValue('Waste')\n",
    "ampl.eval('objective Waste;')"
   ]
  },
  {
   "cell_type": "code",
   "execution_count": 13,
   "metadata": {},
   "outputs": [
    {
     "name": "stdout",
     "output_type": "stream",
     "text": [
      "Gurobi 9.5.0: optimal solution; objective 46.72\n",
      "4 simplex iterations\n",
      "1 branch-and-cut nodes\n",
      "Gurobi 9.5.0: optimal solution; objective 46.72\n",
      "4 simplex iterations\n",
      "1 branch-and-cut nodes\n",
      "Gurobi 9.5.0: optimal solution; objective 47.89\n",
      "4 simplex iterations\n",
      "1 branch-and-cut nodes\n",
      "Gurobi 9.5.0: optimal solution; objective 49.16\n",
      "4 simplex iterations\n",
      "1 branch-and-cut nodes\n",
      "Gurobi 9.5.0: optimal solution; objective 54.76\n",
      "5 simplex iterations\n",
      "1 branch-and-cut nodes\n"
     ]
    }
   ],
   "source": [
    "over_lim = int(ampl.param['over_lim'].value())\n",
    "prev_number = float('inf')\n",
    "min_waste = {}\n",
    "min_wastenum = {}\n",
    "for k in reversed(range(over_lim)):    \n",
    "    ampl.param['over_lim'] = k\n",
    "    ampl.eval('solve;')    \n",
    "    if ampl.getValue('solve_result') == 'infeasible':\n",
    "        break\n",
    "    number = ampl.getValue('Number')\n",
    "    if number < prev_number:\n",
    "        min_waste[k] = ampl.getValue('Waste')\n",
    "        min_wastenum[k] = number\n",
    "        prev_number = number\n",
    "    if number == min_number:\n",
    "        break"
   ]
  },
  {
   "cell_type": "markdown",
   "metadata": {},
   "source": [
    "### Report"
   ]
  },
  {
   "cell_type": "code",
   "execution_count": 14,
   "metadata": {},
   "outputs": [
    {
     "name": "stdout",
     "output_type": "stream",
     "text": [
      "Min 20 rolls with waste 62.04\n",
      "\n",
      "Over\tWaste\tNumber\n",
      "9\t46.71999999999988\t22\n",
      "7\t47.88999999999987\t21\n",
      "5\t54.75999999999988\t20\n"
     ]
    }
   ],
   "source": [
    "print('Min{:3.0f} rolls with waste{:6.2f}\\n'.format(min_number, min_numwaste))     \n",
    "print('Over\\tWaste\\tNumber')\n",
    "for k in sorted(min_waste.keys(), reverse=True):\n",
    "    print('{}\\t{}\\t{:.0f}'.format(k, min_waste[k], min_wastenum[k]))"
   ]
  }
 ],
 "metadata": {
  "kernelspec": {
   "display_name": "Python 3 (ipykernel)",
   "language": "python",
   "name": "python3"
  },
  "language_info": {
   "codemirror_mode": {
    "name": "ipython",
    "version": 3
   },
   "file_extension": ".py",
   "mimetype": "text/x-python",
   "name": "python",
   "nbconvert_exporter": "python",
   "pygments_lexer": "ipython3",
   "version": "3.9.8"
  }
 },
 "nbformat": 4,
 "nbformat_minor": 2
}
