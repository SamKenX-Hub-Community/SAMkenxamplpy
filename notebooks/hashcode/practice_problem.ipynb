{
  "cells": [
    {
      "cell_type": "markdown",
      "metadata": {
        "id": "APznptbwRdyv"
      },
      "source": [
        "# Google Hashcode 2022\n",
        "\n",
        "[![Open In Colab](https://colab.research.google.com/assets/colab-badge.svg)](https://colab.research.google.com/github/ampl/amplpy/blob/master/notebooks/hashcode/practice_problem.ipynb)\n",
        "\n",
        "[Google Hashcode](https://codingcompetitions.withgoogle.com/hashcode) is a team programming competition to solve a complex **engineering problem**.\n",
        "\n",
        "In this notebook we are showing how Mathematical Optimization methods as ***Mixed Integer Programming*** (MIP) are useful to solve this kind of problems, as they are really easy to implement and give optimal solutions (not only _trade-off_ ones), as opposed to greedy approaches or heuristics. We are solving the *pizza* **warm-up exercise**.\n",
        "\n",
        "We are using [AMPL](https://ampl.com) as the modeling language to formulate the problem from two different approaches (not all the formulations are the same in terms of complexity), coming up with enhancements or alternative approaches is an important part of the solving process.\n",
        "\n",
        "As an instructive example of how to face this kind of problems, we are using the AMPL API for Python (AMPLPY), so we can read the input of the problem, translate easily to a data file for AMPL, and retrieve the solution to get the score. Because of using MIP approach, the score will be the highest possible for the problem.\n",
        "\n",
        "## Problem statement\n",
        "\n",
        "The statement of this year is related to a pizzeria, the goal is to maximize the number of customers coming, and we want to pick the ingredients for the only pizza that is going to be sold:\n",
        "\n",
        "* Each customer has a list of ingredients he loves, and a list of those he does not like.\n",
        "* A customer will come to the pizzeria if the pizza has all the ingredients he likes, and does not have any disgusting ingredient for him.\n",
        "\n",
        "**Task**: choose the exact ingredients the pizza should have so it maximizes the number of customers given their lists of preferences. The score is the number of customers coming to eat the pizza.\n",
        "\n",
        "(The statement can be found [here](https://bytefreaks.net/google/google-hash-code-2022-practice-problem))"
      ]
    },
    {
      "cell_type": "markdown",
      "metadata": {
        "id": "hee6hOeeRdy1"
      },
      "source": [
        "# First formulation\n",
        "\n",
        "The first MIP formulation will be straightforward. We have to define the variables we are going to use, and then the objective function and constraints will be easy to figure out.\n",
        "\n",
        "## Variables\n",
        "\n",
        "We have to decide which ingredients to pick, so\n",
        "* $x_i$ = 1 if the ingredient *i* is in the pizza, 0 otherwise.\n",
        "* $y_j$ = 1 if the customer will come to the pizzeria, 0 otherwise.\n",
        "\n",
        "Where $i = 1, .., I$ and $j = 1, .., c$ (*c* = total of customers and *I* = total of ingredients).\n",
        "\n",
        "## Objective function\n",
        "\n",
        "The goal is to maximize the number of customers, so this is clear:\n",
        "$$maximize \\ \\sum \\limits_{j = 1}^c y_j$$\n",
        "\n",
        "Finally, we need to tie the variables to have the meaning we need by using constraints.\n",
        "\n",
        "## Constraints\n",
        "\n",
        "If the *j* customer comes, his favourite ingredients should be picked (mathematically $y_j=1$ implies all the $x_i = 1$). So, for each $j = 1, .., c$:\n",
        "\n",
        "$$|Likes_j| \\cdot y_j \\leq \\sum \\limits_{i \\in Likes_j} x[i]$$\n",
        "    \n",
        "Where $Likes_j$ is the set of ingredients $j$ customer likes, and $|Likes_j|$ the number of elements of the set.\n",
        "\n",
        "If any of the disliked ingredients is in the pizza, customer $j$ can't come (any $x_i = 1$ implies $y_j = 0$). For each customer $j = 1, .., c$:\n",
        "\n",
        "$$\\sum \\limits_{i \\in Dislikes_j} x_i \\leq \\frac{1}{2}+(|Dislikes_j|+\\frac{1}{2})\\cdot(1-y_j)$$\n",
        "\n",
        "So when customer $j$ comes, the right side is equal to\n",
        "$$\\frac{1}{2}+(|Dislikes_j|+\\frac{1}{2})\\cdot(1-1) = \\frac{1}{2} + 0 = \\frac{1}{2}$$\n",
        "This implies the left side to be zero, because the $x_i$ variables are binary. If the customer $j$ does not come, the inequality is satisfied trivially."
      ]
    },
    {
      "cell_type": "markdown",
      "source": [
        "We will need the input data files from the problem, they are available in the amplpy Github repository:"
      ],
      "metadata": {
        "id": "exLThNHq0ztJ"
      }
    },
    {
      "cell_type": "code",
      "source": [
        "import os\n",
        "if not os.path.isdir('input_data'):\n",
        "    os.system('git clone https://github.com/ampl/amplpy.git')\n",
        "    os.chdir('amplpy/notebooks/hashcode')\n",
        "\n",
        "if not os.path.isdir('ampl_input'):\n",
        "  os.mkdir('ampl_input')"
      ],
      "metadata": {
        "id": "YK0M3R9l1vTF"
      },
      "execution_count": 1,
      "outputs": []
    },
    {
      "cell_type": "markdown",
      "metadata": {
        "id": "K_tSgg3Ki75t"
      },
      "source": [
        "Let's use AMPL to formulate the previous problem. The following section setup AMPL to run in also in the cloud (not only locally) with Google Colab.\n",
        "\n",
        "## AMPLPY Setup in the cloud\n",
        "\n",
        "Here is some documentation and examples of the API: [Documentation](http://amplpy.readthedocs.io), [GitHub Repository](https://github.com/ampl/amplpy), [PyPI Repository](https://pypi.python.org/pypi/amplpy), other [Jupyter Notebooks](https://github.com/ampl/amplpy/tree/master/notebooks). The following cell is enough to install it. We are using *ampl* (modeling language) and *gurobi* (solver) modules."
      ]
    },
    {
      "cell_type": "code",
      "execution_count": 2,
      "metadata": {
        "id": "5F5ueIrDi751"
      },
      "outputs": [],
      "source": [
        "!pip install -q amplpy ampltools"
      ]
    },
    {
      "cell_type": "code",
      "execution_count": 3,
      "metadata": {
        "id": "bRmgn-hJi756",
        "outputId": "178f385e-c929-4150-a6a5-463d1cee78b6",
        "colab": {
          "base_uri": "https://localhost:8080/"
        }
      },
      "outputs": [
        {
          "output_type": "stream",
          "name": "stdout",
          "text": [
            "Already installed. Skipping.\n",
            "Activating demo license.\n"
          ]
        }
      ],
      "source": [
        "import os\n",
        "RUNNING_IN_GOOGLE_COLAB = 'COLAB_GPU' in os.environ\n",
        "RUNNING_IN_KAGGLE = os.path.abspath(os.curdir).startswith('/kaggle/')\n",
        "RUNNING_IN_THE_CLOUD = RUNNING_IN_GOOGLE_COLAB or RUNNING_IN_KAGGLE\n",
        "\n",
        "# If you have an AMPL Cloud License or an AMPL CE license, you can use it on Google Colab and similar platforms.\n",
        "# Note: Your license UUID should never be shared. Please make sure you delete the license UUID\n",
        "# and rerun this cell before sharing the notebook with anyone.\n",
        "LICENSE_UUID = None\n",
        "# You can install individual modules from https://portal.ampl.com/dl/modules/\n",
        "MODULES = ['ampl', 'gurobi']\n",
        "# Set to True in order to install AMPL only once \n",
        "RUN_ONCE = True\n",
        "if RUNNING_IN_THE_CLOUD:\n",
        "    from ampltools import ampl_installer\n",
        "    ampl_dir = os.path.abspath(os.path.join(os.curdir, 'ampl.linux-intel64'))\n",
        "    ampl_installer(ampl_dir, modules=MODULES, license_uuid=LICENSE_UUID, run_once=RUN_ONCE, verbose=True)\n",
        "    os.environ['PATH'] += os.pathsep + ampl_dir\n",
        "\n",
        "# Import, instantiate an ampl object and register jupyter notebook magics\n",
        "from amplpy import AMPL, register_magics\n",
        "ampl = AMPL()\n",
        "# ampl.eval('option version;')\n",
        "# Store %%ampl cells in the list _ampl_cells\n",
        "# Evaluate %%ampl_eval cells with ampl.eval()\n",
        "register_magics(store_name='_ampl_cells', ampl_object=ampl)"
      ]
    },
    {
      "cell_type": "markdown",
      "metadata": {
        "id": "VRqGGLo36kww"
      },
      "source": [
        "## Solving problem with AMPL\n",
        "\n",
        "First, we need to write the model file (`.mod`) containing the mathematical formulation. After that, we will write a data file (`.dat`) to solve the different instances of the Hashcode problem."
      ]
    },
    {
      "cell_type": "code",
      "execution_count": 4,
      "metadata": {
        "colab": {
          "base_uri": "https://localhost:8080/"
        },
        "id": "a5TgTF9Yi76B",
        "outputId": "53b4e85f-5ac9-4098-95a3-5638431bede0"
      },
      "outputs": [
        {
          "output_type": "stream",
          "name": "stdout",
          "text": [
            "Overwriting pizza.mod\n"
          ]
        }
      ],
      "source": [
        "%%writefile pizza.mod\n",
        "\n",
        "# PARAMETERS AND SETS\n",
        "param total_customers;\n",
        "\n",
        "# Set of ingredients\n",
        "set INGR;\n",
        "# Customers lists of preferences\n",
        "set Likes{1..total_customers};\n",
        "set Dislikes{1..total_customers};\n",
        "\n",
        "# VARIABLES\n",
        "\n",
        "# Take or not to take the ingredient\n",
        "var x{i in INGR}, binary;\n",
        "# customer comes OR NOT\n",
        "var y{j in 1..total_customers}, binary;\n",
        "\n",
        "# OBJECTIVE FUNCTION\n",
        "maximize Total_Customers: sum{j in 1..total_customers} y[j];\n",
        "\n",
        "s.t.\n",
        "Customer_Likes{j in 1..total_customers}:\n",
        "\tcard(Likes[j])*y[j] <= sum{i in Likes[j]} x[i];\n",
        "\n",
        "param eps := 0.5;\n",
        "\n",
        "Customer_Dislikes{j in 1..total_customers}:\n",
        "\tsum{i in Dislikes[j]} x[i] <= 1-eps+(card(Dislikes[j])+eps)*(1-y[j]);"
      ]
    },
    {
      "cell_type": "markdown",
      "metadata": {
        "id": "v099o0dX9KaU"
      },
      "source": [
        "### Translate input with Python\n",
        "\n",
        "The input files are in the folder `input_data/`, but they do not have the AMPL data format. Fortunately, we can easily parse the original input files to generate AMPL data files."
      ]
    },
    {
      "cell_type": "code",
      "execution_count": 5,
      "metadata": {
        "id": "JQa0hdJHi76D"
      },
      "outputs": [],
      "source": [
        "import sys\n",
        "\n",
        "# dict to map chars to hashcode original filenames\n",
        "filename = {\n",
        "    'a':'input_data/a_an_example.in.txt',\n",
        "    'b':'input_data/b_basic.in.txt',\n",
        "    'c':'input_data/c_coarse.in.txt',\n",
        "    'd':'input_data/d_difficult.in.txt',\n",
        "    'e':'input_data/e_elaborate.in.txt'\n",
        "}\n",
        "\n",
        "def read(testcase):\n",
        "    original_stdout = sys.stdout\n",
        "    with open(filename[testcase]) as input_file, open('ampl_input/pizza_'+testcase+'.dat', 'w+') as output_data_file:\n",
        "        sys.stdout = output_data_file # Change the standard output to the file we created.\n",
        "        # total_customers\n",
        "        total_customers = int(input_file.readline())\n",
        "        print('param total_customers :=',total_customers,';')\n",
        "                \n",
        "        # loop over customers\n",
        "        ingr=set()\n",
        "        for c in range(1, total_customers+1):\n",
        "            likes = input_file.readline().split()\n",
        "            likes.pop(0)\n",
        "            print('set Likes['+str(c)+'] := ',end='')\n",
        "            print(*likes, end = ' ')\n",
        "            print(';')\n",
        "            dislikes = input_file.readline().split()\n",
        "            dislikes.pop(0)\n",
        "            print('set Dislikes['+str(c)+'] := ',end='')\n",
        "            print(*dislikes, end = ' ')\n",
        "            print(';')\n",
        "            ingr = ingr.union(set(likes))\n",
        "            ingr = ingr.union(set(dislikes))\n",
        "        print('set INGR :=')\n",
        "        print(*sorted(ingr), end = '\\n')\n",
        "        print(';')\n",
        "    sys.stdout = original_stdout\n",
        "\n",
        "# Let's try with problem 'c' from hashcode\n",
        "read('c')"
      ]
    },
    {
      "cell_type": "markdown",
      "metadata": {
        "id": "EsFMuPytAE0n"
      },
      "source": [
        "The file written can be displayed with ampl:"
      ]
    },
    {
      "cell_type": "code",
      "execution_count": 6,
      "metadata": {
        "colab": {
          "base_uri": "https://localhost:8080/"
        },
        "id": "J_h0xjzn-XlH",
        "outputId": "553a75a0-c455-44d7-ba33-29e69842ed57"
      },
      "outputs": [
        {
          "output_type": "stream",
          "name": "stdout",
          "text": [
            "param total_customers := 10 ;\n",
            "set Likes[1] := akuof byyii dlust ;\n",
            "set Dislikes[1] := xdozp ;\n",
            "set Likes[2] := dlust luncl qzfyo ;\n",
            "set Dislikes[2] := xdozp ;\n",
            "set Likes[3] := akuof luncl vxglq ;\n",
            "set Dislikes[3] := qzfyo ;\n",
            "set Likes[4] := dlust vxglq luncl ;\n",
            "set Dislikes[4] :=  ;\n",
            "set Likes[5] := dlust xveqd tfeej ;\n",
            "set Dislikes[5] :=  ;\n",
            "set Likes[6] := qzfyo vxglq luncl ;\n",
            "set Dislikes[6] := byyii ;\n",
            "set Likes[7] := luncl xdozp xveqd ;\n",
            "set Dislikes[7] := sunhp ;\n",
            "set Likes[8] := byyii xdozp tfeej ;\n",
            "set Dislikes[8] := qzfyo ;\n",
            "set Likes[9] := dlust akuof tfeej ;\n",
            "set Dislikes[9] := xveqd ;\n",
            "set Likes[10] := vxglq dlust byyii ;\n",
            "set Dislikes[10] := akuof ;\n",
            "set INGR :=\n",
            "akuof byyii dlust luncl qzfyo sunhp tfeej vxglq xdozp xveqd\n",
            ";\n"
          ]
        }
      ],
      "source": [
        "%%ampl_eval\n",
        "shell 'cat ampl_input/pizza_c.dat';"
      ]
    },
    {
      "cell_type": "markdown",
      "metadata": {
        "id": "coH505b0RdzO"
      },
      "source": [
        "Now, **solve the problem** usign *AMPL* and *Gurobi* (MIP solver)"
      ]
    },
    {
      "cell_type": "code",
      "source": [
        "os.listdir('ampl_input')"
      ],
      "metadata": {
        "id": "vJ8yWLCH1J9I",
        "outputId": "705b8e78-5041-45f9-9dc9-53e43a7bc24d",
        "colab": {
          "base_uri": "https://localhost:8080/"
        }
      },
      "execution_count": 7,
      "outputs": [
        {
          "output_type": "execute_result",
          "data": {
            "text/plain": [
              "['pizza_c.dat',\n",
              " 'pizza_b.dat',\n",
              " 'pizza_d.dat',\n",
              " 'pizza_a.dat',\n",
              " 'pizza_e.dat',\n",
              " 'amplpy']"
            ]
          },
          "metadata": {},
          "execution_count": 7
        }
      ]
    },
    {
      "cell_type": "code",
      "execution_count": 8,
      "metadata": {
        "id": "-Oht3CaIRdzP",
        "outputId": "72d0d4f4-055d-4450-f717-2b2699525ef2",
        "colab": {
          "base_uri": "https://localhost:8080/"
        }
      },
      "outputs": [
        {
          "output_type": "stream",
          "name": "stdout",
          "text": [
            "gurobi (Linux x86_64), licchk(20131021), ASL(20211109)\n",
            "Gurobi 9.5.0: optimal solution; objective 5\n",
            "5 simplex iterations\n",
            "1 branch-and-cut nodes\n",
            ":       x   y    :=\n",
            "1       .   0\n",
            "2       .   0\n",
            "3       .   0\n",
            "4       .   1\n",
            "5       .   1\n",
            "6       .   0\n",
            "7       .   1\n",
            "8       .   1\n",
            "9       .   0\n",
            "10      .   1\n",
            "akuof   0   .\n",
            "byyii   1   .\n",
            "dlust   1   .\n",
            "luncl   1   .\n",
            "qzfyo   0   .\n",
            "sunhp   0   .\n",
            "tfeej   1   .\n",
            "vxglq   1   .\n",
            "xdozp   1   .\n",
            "xveqd   1   .\n",
            ";\n",
            "\n"
          ]
        }
      ],
      "source": [
        "%%ampl_eval\n",
        "model pizza.mod;\n",
        "data ampl_input/pizza_c.dat;\n",
        "option solver gurobi;\n",
        "solve;\n",
        "display x, y;"
      ]
    },
    {
      "cell_type": "markdown",
      "metadata": {
        "id": "P5ltxAt7RdzR"
      },
      "source": [
        "So the ingredients we should pick are:\n",
        "* byyii, dlust, luncl, tfeej, vxglq, xdozp and xveqd.\n",
        "* Customers coming are: 4, 5, 7, 8, 10. Total score: 5.\n",
        "\n",
        "We can **write an output file** in the hashcode format:"
      ]
    },
    {
      "cell_type": "code",
      "execution_count": 9,
      "metadata": {
        "id": "gK369MvyRdzR",
        "outputId": "eabdc8be-4a2c-4b44-e237-f294fafc63a7",
        "colab": {
          "base_uri": "https://localhost:8080/"
        }
      },
      "outputs": [
        {
          "output_type": "stream",
          "name": "stdout",
          "text": [
            "7 byyii dlust luncl tfeej vxglq xdozp xveqd "
          ]
        }
      ],
      "source": [
        "%%ampl_eval\n",
        "printf \"%d \", sum{i in INGR} x[i] > output_file.out;\n",
        "for{i in INGR}{\n",
        "    if x[i] = 1 then printf \"%s \", i >> output_file.out;\n",
        "}\n",
        "shell 'cat output_file.out';"
      ]
    },
    {
      "cell_type": "markdown",
      "metadata": {
        "id": "d4acJqBoRdzU"
      },
      "source": [
        "## You can try this with the other practice instances!\n",
        "\n",
        "The big ones can take several hours to get the optimal solution, as MIP problems are usually hard because of the integrity constraints of the variables. That's why it is often necessary to reformulate the problem, or try to improve an existing formulation by adding of combining constraints / variables. In the following section, we present an alternative point of view to attack the Hashcode practice problem, hoping the solver finds a solution earlier this way.\n",
        "\n",
        "# Alternative formulation\n",
        "\n",
        "We could exploit the relations between customers and see if we can figure out of them. Actually, the goal is to get the biggest set of independent customers that are compatible (so none of their favourite ingredients are in the pizza). The ingredients we are picking may be deduced from the particular customers preferences we want to have.\n",
        "\n",
        "With this idea, let's propose a ***graph approach*** where each customer is represented by node, and two nodes are connected by an edge if and only if the two customers are compatible. This is translated to the problem as:\n",
        "\n",
        "* Customer *i* loved ingredients are not in the disliked ingredients list of *j* (and vice versa).\n",
        "\n",
        "With sets, this is:\n",
        "\n",
        "$$Liked_i \\cap Disliked_j = Liked_j \\cap Disliked_i = \\emptyset $$\n",
        "\n",
        "So the problem is reduced to find the maximal [clique](https://en.wikipedia.org/wiki/Clique_problem) in the graph (a clique is a subset of nodes and edges such as every pair of nodes are connected by an edge), which is an [*NP-Complete*](https://en.wikipedia.org/wiki/NP-completeness) problem. The clique is maximal respect to the number of nodes.\n",
        "\n",
        "## New variables\n",
        "\n",
        "To solve the clique problem we may use the binary variables:\n",
        "* $x_i$ = 1 if the node belongs to the maximal clique, 0 otherwise. For each $i = 1, .., c$.\n",
        "\n",
        "## Objective function\n",
        "\n",
        "It is the same as in the previous approach, as a node $i$ is in the maximal clique if and only if the customer $i$ is coming to the pizzeria in the corresponding optimal solution to the original problem. A bigger clique would induce a better solution, or a better solution would imply the solution customers to generate a bigger clique as all of them are compatible.\n",
        "\n",
        "$$maximize \\ \\sum \\limits_{i = 1}^c x_i$$\n",
        "\n",
        "\n",
        "## New constraints\n",
        "\n",
        "The constraints are quite simple now. Two nodes that are not connected can't be in the same clique. For each pair of nodes not connected $i$ and $j$:\n",
        "$$x_i + x_j \\leq 1$$\n",
        "\n",
        "## Formulation with AMPL\n",
        "\n",
        "We are writing a new model file (very similar to the previous one). In order to reuse the data files and not get any errors, we will keep the *INGR* set although it is not going to be used anymore.\n",
        "\n",
        "The most interesting feature in the model could be the condition to check that two customers are incompatible to generate a constraint. The condition is:\n",
        "\n",
        "$$Liked_i \\cap Disliked_j \\neq \\emptyset \\ \\text{ or } \\ Liked_j \\cap Disliked_i \\neq \\emptyset$$\n",
        "\n",
        "A set is not empty if its cardinality is greater or equal to one, so in AMPL we could write:\n",
        "\n",
        "`card(Likes[i] inter Dislikes[j]) >= 1 or card(Likes[j] inter Dislikes[i]) >= 1`"
      ]
    },
    {
      "cell_type": "code",
      "execution_count": 10,
      "metadata": {
        "id": "RZ45qesQRdzV",
        "outputId": "695c1136-a59b-4805-9c40-3287473648f6",
        "colab": {
          "base_uri": "https://localhost:8080/"
        }
      },
      "outputs": [
        {
          "output_type": "stream",
          "name": "stdout",
          "text": [
            "Overwriting pizza_alternative.mod\n"
          ]
        }
      ],
      "source": [
        "%%writefile pizza_alternative.mod\n",
        "\n",
        "# PARAMETERS AND SETS\n",
        "param total_customers;\n",
        "\n",
        "# Set of ingredients\n",
        "set INGR;\n",
        "# Customers lists of preferences\n",
        "set Likes{1..total_customers};\n",
        "set Dislikes{1..total_customers};\n",
        "\n",
        "# VARIABLES\n",
        "\n",
        "# customer comes OR NOT <=> node in the clique or not\n",
        "var x{i in 1..total_customers}, binary;\n",
        "\n",
        "# OBJECTIVE FUNCTION\n",
        "maximize Total_Customers: sum{i in 1..total_customers} x[i];\n",
        "\n",
        "s.t.\n",
        "# Using the set operations to check if two nodes are not connected\n",
        "Compatible{i in 1..total_customers-1, j in i+1..total_customers : card(Likes[i] inter Dislikes[j]) >= 1 or card(Likes[j] inter Dislikes[i]) >= 1}:\n",
        "\tx[i]+x[j] <= 1;\n"
      ]
    },
    {
      "cell_type": "markdown",
      "metadata": {
        "id": "uS-MOn5IRdzW"
      },
      "source": [
        "We can still use the same data files."
      ]
    },
    {
      "cell_type": "code",
      "execution_count": 11,
      "metadata": {
        "id": "yHW9epELRdzX",
        "outputId": "20d6f42e-a9d3-4b87-ed50-d93101ca11f0",
        "colab": {
          "base_uri": "https://localhost:8080/"
        }
      },
      "outputs": [
        {
          "output_type": "stream",
          "name": "stdout",
          "text": [
            "gurobi (Linux x86_64), licchk(20131021), ASL(20211109)\n",
            "Gurobi 9.5.0: optimal solution; objective 5\n",
            "3 simplex iterations\n",
            "1 branch-and-cut nodes\n",
            "x [*] :=\n",
            " 1  0\n",
            " 2  0\n",
            " 3  0\n",
            " 4  1\n",
            " 5  1\n",
            " 6  0\n",
            " 7  1\n",
            " 8  1\n",
            " 9  0\n",
            "10  1\n",
            ";\n",
            "\n"
          ]
        }
      ],
      "source": [
        "%%ampl_eval\n",
        "reset;\n",
        "model pizza_alternative.mod;\n",
        "data ampl_input/pizza_c.dat;\n",
        "option solver gurobi;\n",
        "solve;\n",
        "display x;"
      ]
    },
    {
      "cell_type": "code",
      "execution_count": 12,
      "metadata": {
        "id": "qV9VQarGRdzY",
        "outputId": "5cd9c9d7-4414-4a3a-e691-d3702a4387df",
        "colab": {
          "base_uri": "https://localhost:8080/"
        }
      },
      "outputs": [
        {
          "output_type": "stream",
          "name": "stdout",
          "text": [
            "7 dlust vxglq luncl xveqd tfeej xdozp byyii "
          ]
        }
      ],
      "source": [
        "%%ampl_eval\n",
        "set picked_ingr default {};\n",
        "for{i in 1..total_customers}{\n",
        "    if x[i] = 1 then let picked_ingr := picked_ingr union Likes[i];\n",
        "}\n",
        "\n",
        "printf \"%d \", card(picked_ingr) > output_file.out;\n",
        "for{i in picked_ingr}{\n",
        "    printf \"%s \", i >> output_file.out;\n",
        "}\n",
        "shell 'cat output_file.out';"
      ]
    },
    {
      "cell_type": "markdown",
      "metadata": {
        "id": "maQRrv6_RdzZ"
      },
      "source": [
        "# Conclusion\n",
        "\n",
        "First, let's compare the size of the two models.\n",
        "\n",
        "* First approach size: $c+I$ variables + $2c$ constraints.\n",
        "* Second approach size: $c$ variables + $c(c-1)/2$ constraints (potentially).\n",
        "\n",
        "Also in the second approach, each constraint has only two non-zero coefficients along with variables, which is an advantage to have more sparse coefficient matrices.\n",
        "\n",
        "The choice of one model or another will depend on the concrete instance of the problem, so the sparsity of the matrix and the real number of constraints can change (actually, the constraints of the two models are compatible). AMPL will take care of building the coefficient matrix efficiently, so there is no extra effort to compute the constraints or sums within them once the model is prepared and sent to the solver, and we can focus on thinking algorithmically. Also a lot of constraints and variables would be removed by presolve. To know more about the AMPL modeling language you can take a look to the [manual](https://ampl.com/resources/the-ampl-book/).\n",
        "\n",
        "Some of the **advantages** of this approach are:\n",
        "* It is really easy to implement solutions.\n",
        "* There is no need to debug algorithms, only the correctness of the model.\n",
        "* Models are very flexible, so new constraints could be added while the rest of the model remains the same.\n",
        "\n",
        "**Disadvantages**:\n",
        "* It is hard to estimate how long it is going to take, even in simple models like the ones presented.\n",
        "* Sometimes it is hard to formulate the problem, as some of the constraints or the objective function could not adjust to the usual mathematical language. The problem could be non-linear so convergence would be more difficult and even optimal solutions would not be guaranteed.\n",
        "* For simple problems, more efficient algorithmic techniques could also give the best solution (Dynamic Programming, optimal greedy approaches...).\n",
        "\n",
        "**Enhancements**:\n",
        "* Study the problem to come up with presolve heuristics in order to get smaller models.\n",
        "* Add termination criterias (solver options) so the solver can stop prematurely when finding a enough good solution (there is a little gap between the best found solution and the known bounds), or even a time limit. If you are lucky the solution could be the optimal one but the optimality was not proved yet.\n",
        "* If the solver could not find the optimal solution on time, but we used a termination criteria, we could retrieve a good solution and run some kind of algorithm over it so we can improve and get closer to the optimal (*GRASP* or *Genetic Algorithms*, for instance). Actually, when solving a real engineering problem is desirable to combine *exact methods* as MIP, *heuristics* (greedy approaches) or *metaheuristics* (GRASP, Simulated Annealing, ...) among others, to reach better solutions.\n",
        "\n",
        "\n",
        "--\n",
        "\n",
        "*Author: Marcos Dominguez Velad. Software engineer at AMPL.*\n",
        "\n",
        "<marcos@ampl.com>"
      ]
    }
  ],
  "metadata": {
    "colab": {
      "collapsed_sections": [],
      "name": "practice_problem.ipynb",
      "provenance": []
    },
    "kernelspec": {
      "display_name": "Python 3",
      "language": "python",
      "name": "python3"
    },
    "language_info": {
      "codemirror_mode": {
        "name": "ipython",
        "version": 3
      },
      "file_extension": ".py",
      "mimetype": "text/x-python",
      "name": "python",
      "nbconvert_exporter": "python",
      "pygments_lexer": "ipython3",
      "version": "3.6.9"
    }
  },
  "nbformat": 4,
  "nbformat_minor": 0
}